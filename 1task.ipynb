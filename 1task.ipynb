{
 "cells": [
  {
   "cell_type": "code",
   "execution_count": 125,
   "metadata": {},
   "outputs": [],
   "source": [
    "from binance.client import Client\n",
    "import pandas as pd\n",
    "import numpy as np"
   ]
  },
  {
   "cell_type": "code",
   "execution_count": 126,
   "metadata": {},
   "outputs": [],
   "source": [
    "def get_price_data_binance(ticker:str,limit:int,interval = Client.KLINE_INTERVAL_1DAY)->pd.DataFrame:\n",
    "        api = 'api'         #Вставьте свой апи-ключ\n",
    "        secret = 'secret'   #Вставьте свой секрет-апи\n",
    "        client = Client(api, secret)\n",
    "        df = pd.DataFrame(client.futures_klines(symbol=ticker, limit=limit, interval=interval))\n",
    "        df.columns=['date','open','high','low','close','volume','close_time','d1','d2','d3','d4','d5']\n",
    "        df = df.drop(['close_time','d1','d2','d3','d4','d5'],axis=1)\n",
    "        df['date'] = pd.to_datetime(df['date']*1000000)\n",
    "        df['open'] = df['open'].astype(float)\n",
    "        df['high'] = df['high'].astype(float)\n",
    "        df['low'] = df['low'].astype(float)\n",
    "        df['close'] = df['close'].astype(float)\n",
    "        return df"
   ]
  },
  {
   "cell_type": "code",
   "execution_count": 127,
   "metadata": {},
   "outputs": [],
   "source": [
    "BTCdf = get_price_data_binance('BTCUSDT',160,interval=Client.KLINE_INTERVAL_1MINUTE)\n",
    "ETHdf = get_price_data_binance('ETHUSDT',160,interval=Client.KLINE_INTERVAL_1MINUTE)\n",
    "XRPdf = get_price_data_binance('XRPUSDT',160,interval=Client.KLINE_INTERVAL_1MINUTE)"
   ]
  },
  {
   "cell_type": "code",
   "execution_count": 128,
   "metadata": {},
   "outputs": [
    {
     "name": "stdout",
     "output_type": "stream",
     "text": [
      "[[1.         0.94993234]\n",
      " [0.94993234 1.        ]]\n"
     ]
    }
   ],
   "source": [
    "print(np.corrcoef(BTCdf.loc[:,'close'], ETHdf.loc[:,'close']))\n",
    "correlationETH = np.corrcoef(BTCdf.loc[:,'close'], ETHdf.loc[:,'close'])[0][1]\n",
    "correlationXRP = np.corrcoef(BTCdf.loc[:,'close'], XRPdf.loc[:,'close'])[0][1]"
   ]
  },
  {
   "cell_type": "code",
   "execution_count": 129,
   "metadata": {},
   "outputs": [
    {
     "name": "stdout",
     "output_type": "stream",
     "text": [
      "Корелляция цен закрытия c ETH - 0.949932343766839\n",
      "Корелляция цен закрытия c XRP - 0.46015131155684175\n"
     ]
    }
   ],
   "source": [
    "print(f'Корелляция цен закрытия c ETH - {correlationETH}')\n",
    "print(f'Корелляция цен закрытия c XRP - {correlationXRP}')"
   ]
  }
 ],
 "metadata": {
  "kernelspec": {
   "display_name": "Python 3",
   "language": "python",
   "name": "python3"
  },
  "language_info": {
   "codemirror_mode": {
    "name": "ipython",
    "version": 3
   },
   "file_extension": ".py",
   "mimetype": "text/x-python",
   "name": "python",
   "nbconvert_exporter": "python",
   "pygments_lexer": "ipython3",
   "version": "3.10.9"
  },
  "orig_nbformat": 4
 },
 "nbformat": 4,
 "nbformat_minor": 2
}
